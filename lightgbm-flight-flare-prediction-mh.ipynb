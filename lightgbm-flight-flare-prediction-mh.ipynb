{
 "cells": [
  {
   "cell_type": "code",
   "execution_count": 1,
   "metadata": {
    "_cell_guid": "b1076dfc-b9ad-4769-8c92-a6c4dae69d19",
    "_uuid": "8f2839f25d086af736a60e9eeb907d3b93b6e0e5",
    "execution": {
     "iopub.execute_input": "2021-01-14T20:32:15.216113Z",
     "iopub.status.busy": "2021-01-14T20:32:15.215461Z",
     "iopub.status.idle": "2021-01-14T20:32:16.605724Z",
     "shell.execute_reply": "2021-01-14T20:32:16.604575Z"
    },
    "papermill": {
     "duration": 1.415779,
     "end_time": "2021-01-14T20:32:16.605887",
     "exception": false,
     "start_time": "2021-01-14T20:32:15.190108",
     "status": "completed"
    },
    "tags": []
   },
   "outputs": [
    {
     "data": {
      "text/html": [
       "<style type='text/css'>\n",
       ".datatable table.frame { margin-bottom: 0; }\n",
       ".datatable table.frame thead { border-bottom: none; }\n",
       ".datatable table.frame tr.coltypes td {  color: #FFFFFF;  line-height: 6px;  padding: 0 0.5em;}\n",
       ".datatable .bool    { background: #DDDD99; }\n",
       ".datatable .object  { background: #565656; }\n",
       ".datatable .int     { background: #5D9E5D; }\n",
       ".datatable .float   { background: #4040CC; }\n",
       ".datatable .str     { background: #CC4040; }\n",
       ".datatable .row_index {  background: var(--jp-border-color3);  border-right: 1px solid var(--jp-border-color0);  color: var(--jp-ui-font-color3);  font-size: 9px;}\n",
       ".datatable .frame tr.coltypes .row_index {  background: var(--jp-border-color0);}\n",
       ".datatable th:nth-child(2) { padding-left: 12px; }\n",
       ".datatable .hellipsis {  color: var(--jp-cell-editor-border-color);}\n",
       ".datatable .vellipsis {  background: var(--jp-layout-color0);  color: var(--jp-cell-editor-border-color);}\n",
       ".datatable .na {  color: var(--jp-cell-editor-border-color);  font-size: 80%;}\n",
       ".datatable .footer { font-size: 9px; }\n",
       ".datatable .frame_dimensions {  background: var(--jp-border-color3);  border-top: 1px solid var(--jp-border-color0);  color: var(--jp-ui-font-color3);  display: inline-block;  opacity: 0.6;  padding: 1px 10px 1px 5px;}\n",
       "</style>\n"
      ],
      "text/plain": [
       "<IPython.core.display.HTML object>"
      ]
     },
     "metadata": {},
     "output_type": "display_data"
    },
    {
     "name": "stdout",
     "output_type": "stream",
     "text": [
      "/kaggle/input/flight-fare-prediction-mh/Data_Train.xlsx\n",
      "/kaggle/input/flight-fare-prediction-mh/Sample_submission.xlsx\n",
      "/kaggle/input/flight-fare-prediction-mh/Test_set.xlsx\n"
     ]
    }
   ],
   "source": [
    "# This Python 3 environment comes with many helpful analytics libraries installed\n",
    "# It is defined by the kaggle/python Docker image: https://github.com/kaggle/docker-python\n",
    "# For example, here's several helpful packages to load\n",
    "\n",
    "import numpy as np # linear algebra\n",
    "import pandas as pd # data processing, CSV file I/O (e.g. pd.read_csv)\n",
    "from sklearn.model_selection import train_test_split\n",
    "import lightgbm\n",
    "from sklearn.metrics import r2_score, mean_squared_error\n",
    "import matplotlib.pyplot as plt\n",
    "import seaborn as sns\n",
    "\n",
    "# Input data files are available in the read-only \"../input/\" directory\n",
    "# For example, running this (by clicking run or pressing Shift+Enter) will list all files under the input directory\n",
    "\n",
    "import os\n",
    "for dirname, _, filenames in os.walk('/kaggle/input'):\n",
    "    for filename in filenames:\n",
    "        print(os.path.join(dirname, filename))\n",
    "\n",
    "# You can write up to 20GB to the current directory (/kaggle/working/) that gets preserved as output when you create a version using \"Save & Run All\" \n",
    "# You can also write temporary files to /kaggle/temp/, but they won't be saved outside of the current session"
   ]
  },
  {
   "cell_type": "markdown",
   "metadata": {
    "papermill": {
     "duration": 0.019251,
     "end_time": "2021-01-14T20:32:16.645622",
     "exception": false,
     "start_time": "2021-01-14T20:32:16.626371",
     "status": "completed"
    },
    "tags": []
   },
   "source": [
    "Load the train data and drop the null rows\n",
    "There are no missing values afterwards"
   ]
  },
  {
   "cell_type": "code",
   "execution_count": 2,
   "metadata": {
    "_cell_guid": "79c7e3d0-c299-4dcb-8224-4455121ee9b0",
    "_uuid": "d629ff2d2480ee46fbb7e2d37f6b5fab8052498a",
    "execution": {
     "iopub.execute_input": "2021-01-14T20:32:16.688544Z",
     "iopub.status.busy": "2021-01-14T20:32:16.687868Z",
     "iopub.status.idle": "2021-01-14T20:32:19.145309Z",
     "shell.execute_reply": "2021-01-14T20:32:19.146055Z"
    },
    "papermill": {
     "duration": 2.482068,
     "end_time": "2021-01-14T20:32:19.146258",
     "exception": false,
     "start_time": "2021-01-14T20:32:16.664190",
     "status": "completed"
    },
    "tags": []
   },
   "outputs": [
    {
     "name": "stdout",
     "output_type": "stream",
     "text": [
      "Airline            0\n",
      "Date_of_Journey    0\n",
      "Source             0\n",
      "Destination        0\n",
      "Route              0\n",
      "Dep_Time           0\n",
      "Arrival_Time       0\n",
      "Duration           0\n",
      "Total_Stops        0\n",
      "Additional_Info    0\n",
      "Price              0\n",
      "dtype: int64\n"
     ]
    }
   ],
   "source": [
    "df = pd.read_excel('../input/flight-fare-prediction-mh/Data_Train.xlsx', engine='openpyxl')\n",
    "df = df.dropna()\n",
    "print(df.isnull().sum())"
   ]
  },
  {
   "cell_type": "markdown",
   "metadata": {
    "papermill": {
     "duration": 0.018974,
     "end_time": "2021-01-14T20:32:19.185063",
     "exception": false,
     "start_time": "2021-01-14T20:32:19.166089",
     "status": "completed"
    },
    "tags": []
   },
   "source": [
    "Let's check the dataframe's head!"
   ]
  },
  {
   "cell_type": "code",
   "execution_count": 3,
   "metadata": {
    "execution": {
     "iopub.execute_input": "2021-01-14T20:32:19.239199Z",
     "iopub.status.busy": "2021-01-14T20:32:19.238574Z",
     "iopub.status.idle": "2021-01-14T20:32:19.248959Z",
     "shell.execute_reply": "2021-01-14T20:32:19.248385Z"
    },
    "papermill": {
     "duration": 0.044886,
     "end_time": "2021-01-14T20:32:19.249070",
     "exception": false,
     "start_time": "2021-01-14T20:32:19.204184",
     "status": "completed"
    },
    "tags": []
   },
   "outputs": [
    {
     "data": {
      "text/html": [
       "<div>\n",
       "<style scoped>\n",
       "    .dataframe tbody tr th:only-of-type {\n",
       "        vertical-align: middle;\n",
       "    }\n",
       "\n",
       "    .dataframe tbody tr th {\n",
       "        vertical-align: top;\n",
       "    }\n",
       "\n",
       "    .dataframe thead th {\n",
       "        text-align: right;\n",
       "    }\n",
       "</style>\n",
       "<table border=\"1\" class=\"dataframe\">\n",
       "  <thead>\n",
       "    <tr style=\"text-align: right;\">\n",
       "      <th></th>\n",
       "      <th>Airline</th>\n",
       "      <th>Date_of_Journey</th>\n",
       "      <th>Source</th>\n",
       "      <th>Destination</th>\n",
       "      <th>Route</th>\n",
       "      <th>Dep_Time</th>\n",
       "      <th>Arrival_Time</th>\n",
       "      <th>Duration</th>\n",
       "      <th>Total_Stops</th>\n",
       "      <th>Additional_Info</th>\n",
       "      <th>Price</th>\n",
       "    </tr>\n",
       "  </thead>\n",
       "  <tbody>\n",
       "    <tr>\n",
       "      <th>0</th>\n",
       "      <td>IndiGo</td>\n",
       "      <td>24/03/2019</td>\n",
       "      <td>Banglore</td>\n",
       "      <td>New Delhi</td>\n",
       "      <td>BLR → DEL</td>\n",
       "      <td>22:20</td>\n",
       "      <td>01:10 22 Mar</td>\n",
       "      <td>2h 50m</td>\n",
       "      <td>non-stop</td>\n",
       "      <td>No info</td>\n",
       "      <td>3897</td>\n",
       "    </tr>\n",
       "    <tr>\n",
       "      <th>1</th>\n",
       "      <td>Air India</td>\n",
       "      <td>1/05/2019</td>\n",
       "      <td>Kolkata</td>\n",
       "      <td>Banglore</td>\n",
       "      <td>CCU → IXR → BBI → BLR</td>\n",
       "      <td>05:50</td>\n",
       "      <td>13:15</td>\n",
       "      <td>7h 25m</td>\n",
       "      <td>2 stops</td>\n",
       "      <td>No info</td>\n",
       "      <td>7662</td>\n",
       "    </tr>\n",
       "    <tr>\n",
       "      <th>2</th>\n",
       "      <td>Jet Airways</td>\n",
       "      <td>9/06/2019</td>\n",
       "      <td>Delhi</td>\n",
       "      <td>Cochin</td>\n",
       "      <td>DEL → LKO → BOM → COK</td>\n",
       "      <td>09:25</td>\n",
       "      <td>04:25 10 Jun</td>\n",
       "      <td>19h</td>\n",
       "      <td>2 stops</td>\n",
       "      <td>No info</td>\n",
       "      <td>13882</td>\n",
       "    </tr>\n",
       "    <tr>\n",
       "      <th>3</th>\n",
       "      <td>IndiGo</td>\n",
       "      <td>12/05/2019</td>\n",
       "      <td>Kolkata</td>\n",
       "      <td>Banglore</td>\n",
       "      <td>CCU → NAG → BLR</td>\n",
       "      <td>18:05</td>\n",
       "      <td>23:30</td>\n",
       "      <td>5h 25m</td>\n",
       "      <td>1 stop</td>\n",
       "      <td>No info</td>\n",
       "      <td>6218</td>\n",
       "    </tr>\n",
       "    <tr>\n",
       "      <th>4</th>\n",
       "      <td>IndiGo</td>\n",
       "      <td>01/03/2019</td>\n",
       "      <td>Banglore</td>\n",
       "      <td>New Delhi</td>\n",
       "      <td>BLR → NAG → DEL</td>\n",
       "      <td>16:50</td>\n",
       "      <td>21:35</td>\n",
       "      <td>4h 45m</td>\n",
       "      <td>1 stop</td>\n",
       "      <td>No info</td>\n",
       "      <td>13302</td>\n",
       "    </tr>\n",
       "  </tbody>\n",
       "</table>\n",
       "</div>"
      ],
      "text/plain": [
       "       Airline Date_of_Journey    Source Destination                  Route  \\\n",
       "0       IndiGo      24/03/2019  Banglore   New Delhi              BLR → DEL   \n",
       "1    Air India       1/05/2019   Kolkata    Banglore  CCU → IXR → BBI → BLR   \n",
       "2  Jet Airways       9/06/2019     Delhi      Cochin  DEL → LKO → BOM → COK   \n",
       "3       IndiGo      12/05/2019   Kolkata    Banglore        CCU → NAG → BLR   \n",
       "4       IndiGo      01/03/2019  Banglore   New Delhi        BLR → NAG → DEL   \n",
       "\n",
       "  Dep_Time  Arrival_Time Duration Total_Stops Additional_Info  Price  \n",
       "0    22:20  01:10 22 Mar   2h 50m    non-stop         No info   3897  \n",
       "1    05:50         13:15   7h 25m     2 stops         No info   7662  \n",
       "2    09:25  04:25 10 Jun      19h     2 stops         No info  13882  \n",
       "3    18:05         23:30   5h 25m      1 stop         No info   6218  \n",
       "4    16:50         21:35   4h 45m      1 stop         No info  13302  "
      ]
     },
     "execution_count": 3,
     "metadata": {},
     "output_type": "execute_result"
    }
   ],
   "source": [
    "df.head()"
   ]
  },
  {
   "cell_type": "markdown",
   "metadata": {
    "papermill": {
     "duration": 0.019211,
     "end_time": "2021-01-14T20:32:19.288017",
     "exception": false,
     "start_time": "2021-01-14T20:32:19.268806",
     "status": "completed"
    },
    "tags": []
   },
   "source": [
    "We should preprocess the data first\n",
    "As you can see the columns cannot be fed into models because they are not in the right format.\n",
    "They are all objects\n",
    "We should turn them somehow into numerical features"
   ]
  },
  {
   "cell_type": "code",
   "execution_count": 4,
   "metadata": {
    "execution": {
     "iopub.execute_input": "2021-01-14T20:32:19.337898Z",
     "iopub.status.busy": "2021-01-14T20:32:19.337182Z",
     "iopub.status.idle": "2021-01-14T20:32:19.349371Z",
     "shell.execute_reply": "2021-01-14T20:32:19.348778Z"
    },
    "papermill": {
     "duration": 0.042027,
     "end_time": "2021-01-14T20:32:19.349479",
     "exception": false,
     "start_time": "2021-01-14T20:32:19.307452",
     "status": "completed"
    },
    "tags": []
   },
   "outputs": [
    {
     "name": "stdout",
     "output_type": "stream",
     "text": [
      "<class 'pandas.core.frame.DataFrame'>\n",
      "Int64Index: 10682 entries, 0 to 10682\n",
      "Data columns (total 11 columns):\n",
      " #   Column           Non-Null Count  Dtype \n",
      "---  ------           --------------  ----- \n",
      " 0   Airline          10682 non-null  object\n",
      " 1   Date_of_Journey  10682 non-null  object\n",
      " 2   Source           10682 non-null  object\n",
      " 3   Destination      10682 non-null  object\n",
      " 4   Route            10682 non-null  object\n",
      " 5   Dep_Time         10682 non-null  object\n",
      " 6   Arrival_Time     10682 non-null  object\n",
      " 7   Duration         10682 non-null  object\n",
      " 8   Total_Stops      10682 non-null  object\n",
      " 9   Additional_Info  10682 non-null  object\n",
      " 10  Price            10682 non-null  int64 \n",
      "dtypes: int64(1), object(10)\n",
      "memory usage: 1001.4+ KB\n"
     ]
    }
   ],
   "source": [
    "df.info()"
   ]
  },
  {
   "cell_type": "markdown",
   "metadata": {
    "papermill": {
     "duration": 0.019607,
     "end_time": "2021-01-14T20:32:19.388921",
     "exception": false,
     "start_time": "2021-01-14T20:32:19.369314",
     "status": "completed"
    },
    "tags": []
   },
   "source": [
    "Let's check some columns to see if they provide useful information"
   ]
  },
  {
   "cell_type": "code",
   "execution_count": 5,
   "metadata": {
    "execution": {
     "iopub.execute_input": "2021-01-14T20:32:19.436013Z",
     "iopub.status.busy": "2021-01-14T20:32:19.435390Z",
     "iopub.status.idle": "2021-01-14T20:32:20.288333Z",
     "shell.execute_reply": "2021-01-14T20:32:20.288815Z"
    },
    "papermill": {
     "duration": 0.879961,
     "end_time": "2021-01-14T20:32:20.288954",
     "exception": false,
     "start_time": "2021-01-14T20:32:19.408993",
     "status": "completed"
    },
    "tags": []
   },
   "outputs": [
    {
     "data": {
      "image/png": "[encoded data removed]",
      "text/plain": [
       "<Figure size 720x1080 with 3 Axes>"
      ]
     },
     "metadata": {
      "needs_background": "light"
     },
     "output_type": "display_data"
    }
   ],
   "source": [
    "fig, ax = plt.subplots(3,1, figsize=(10,15))\n",
    "sns.barplot(y='Additional_Info', x='Price', data=df, ax=ax[0])\n",
    "sns.boxplot(y='Additional_Info', x='Price', data=df, ax=ax[1])\n",
    "sns.countplot(y='Additional_Info', data=df, ax=ax[2])\n",
    "plt.show()"
   ]
  },
  {
   "cell_type": "markdown",
   "metadata": {
    "papermill": {
     "duration": 0.022772,
     "end_time": "2021-01-14T20:32:20.333686",
     "exception": false,
     "start_time": "2021-01-14T20:32:20.310914",
     "status": "completed"
    },
    "tags": []
   },
   "source": [
    "It shows that the business class have higher prices than other classes\n",
    "But most of this column consists of No info\n",
    "so we drop this coulmn for simplicity's sake"
   ]
  },
  {
   "cell_type": "code",
   "execution_count": 6,
   "metadata": {
    "execution": {
     "iopub.execute_input": "2021-01-14T20:32:20.385619Z",
     "iopub.status.busy": "2021-01-14T20:32:20.385002Z",
     "iopub.status.idle": "2021-01-14T20:32:20.388870Z",
     "shell.execute_reply": "2021-01-14T20:32:20.388247Z"
    },
    "papermill": {
     "duration": 0.0334,
     "end_time": "2021-01-14T20:32:20.388977",
     "exception": false,
     "start_time": "2021-01-14T20:32:20.355577",
     "status": "completed"
    },
    "tags": []
   },
   "outputs": [
    {
     "data": {
      "text/plain": [
       "DEL → BOM → COK                2376\n",
       "BLR → DEL                      1552\n",
       "CCU → BOM → BLR                 979\n",
       "CCU → BLR                       724\n",
       "BOM → HYD                       621\n",
       "                               ... \n",
       "BOM → UDR → DEL → HYD             1\n",
       "BOM → DED → DEL → HYD             1\n",
       "CCU → RPR → HYD → BLR             1\n",
       "BLR → HBX → BOM → AMD → DEL       1\n",
       "BOM → RPR → VTZ → HYD             1\n",
       "Name: Route, Length: 128, dtype: int64"
      ]
     },
     "execution_count": 6,
     "metadata": {},
     "output_type": "execute_result"
    }
   ],
   "source": [
    "df['Route'].value_counts()"
   ]
  },
  {
   "cell_type": "markdown",
   "metadata": {
    "papermill": {
     "duration": 0.022115,
     "end_time": "2021-01-14T20:32:20.433102",
     "exception": false,
     "start_time": "2021-01-14T20:32:20.410987",
     "status": "completed"
    },
    "tags": []
   },
   "source": [
    "There are 128 types of this column and they don't provide general information we can use.\n",
    "So let's drop the Additional info and Route columns"
   ]
  },
  {
   "cell_type": "code",
   "execution_count": 7,
   "metadata": {
    "execution": {
     "iopub.execute_input": "2021-01-14T20:32:20.485675Z",
     "iopub.status.busy": "2021-01-14T20:32:20.482794Z",
     "iopub.status.idle": "2021-01-14T20:32:20.488564Z",
     "shell.execute_reply": "2021-01-14T20:32:20.487919Z"
    },
    "papermill": {
     "duration": 0.032999,
     "end_time": "2021-01-14T20:32:20.488677",
     "exception": false,
     "start_time": "2021-01-14T20:32:20.455678",
     "status": "completed"
    },
    "tags": []
   },
   "outputs": [],
   "source": [
    "df = df.drop(columns=['Additional_Info', 'Route'], axis=1)"
   ]
  },
  {
   "cell_type": "markdown",
   "metadata": {
    "papermill": {
     "duration": 0.022371,
     "end_time": "2021-01-14T20:32:20.533175",
     "exception": false,
     "start_time": "2021-01-14T20:32:20.510804",
     "status": "completed"
    },
    "tags": []
   },
   "source": [
    "Let's explore some other columns as well"
   ]
  },
  {
   "cell_type": "code",
   "execution_count": 8,
   "metadata": {
    "execution": {
     "iopub.execute_input": "2021-01-14T20:32:20.682895Z",
     "iopub.status.busy": "2021-01-14T20:32:20.680524Z",
     "iopub.status.idle": "2021-01-14T20:32:21.565934Z",
     "shell.execute_reply": "2021-01-14T20:32:21.566377Z"
    },
    "papermill": {
     "duration": 1.011067,
     "end_time": "2021-01-14T20:32:21.566525",
     "exception": false,
     "start_time": "2021-01-14T20:32:20.555458",
     "status": "completed"
    },
    "tags": []
   },
   "outputs": [
    {
     "data": {
      "image/png": "[encoded data removed]",
      "text/plain": [
       "<Figure size 720x1080 with 3 Axes>"
      ]
     },
     "metadata": {
      "needs_background": "light"
     },
     "output_type": "display_data"
    }
   ],
   "source": [
    "fig, ax = plt.subplots(3,1, figsize=(10,15))\n",
    "sns.barplot(y='Airline', x='Price', data=df, ax=ax[0])\n",
    "sns.boxplot(y='Airline', x='Price', data=df, ax=ax[1])\n",
    "sns.countplot(y='Airline', data=df, ax=ax[2])\n",
    "plt.show()"
   ]
  },
  {
   "cell_type": "code",
   "execution_count": 9,
   "metadata": {
    "execution": {
     "iopub.execute_input": "2021-01-14T20:32:21.622421Z",
     "iopub.status.busy": "2021-01-14T20:32:21.621821Z",
     "iopub.status.idle": "2021-01-14T20:32:21.625484Z",
     "shell.execute_reply": "2021-01-14T20:32:21.625020Z"
    },
    "papermill": {
     "duration": 0.035301,
     "end_time": "2021-01-14T20:32:21.625606",
     "exception": false,
     "start_time": "2021-01-14T20:32:21.590305",
     "status": "completed"
    },
    "tags": []
   },
   "outputs": [
    {
     "data": {
      "text/plain": [
       "Jet Airways                          3849\n",
       "IndiGo                               2053\n",
       "Air India                            1751\n",
       "Multiple carriers                    1196\n",
       "SpiceJet                              818\n",
       "Vistara                               479\n",
       "Air Asia                              319\n",
       "GoAir                                 194\n",
       "Multiple carriers Premium economy      13\n",
       "Jet Airways Business                    6\n",
       "Vistara Premium economy                 3\n",
       "Trujet                                  1\n",
       "Name: Airline, dtype: int64"
      ]
     },
     "execution_count": 9,
     "metadata": {},
     "output_type": "execute_result"
    }
   ],
   "source": [
    "df['Airline'].value_counts()"
   ]
  },
  {
   "cell_type": "markdown",
   "metadata": {
    "papermill": {
     "duration": 0.024045,
     "end_time": "2021-01-14T20:32:21.673970",
     "exception": false,
     "start_time": "2021-01-14T20:32:21.649925",
     "status": "completed"
    },
    "tags": []
   },
   "source": [
    "We can see that the jet Airways Business have the highest price although there are not many \n",
    "In fact we cannot be sure if our model predicts well for the last 4 airlines which have less than 20 counts each\n",
    "But we also need this information to provide predictions based on airlines\n",
    "We also will have more uncertainty if our test set contains other distribution of airlines\n",
    "So we replace the last 4 airplanes with 'Other'"
   ]
  },
  {
   "cell_type": "code",
   "execution_count": 10,
   "metadata": {
    "execution": {
     "iopub.execute_input": "2021-01-14T20:32:21.734574Z",
     "iopub.status.busy": "2021-01-14T20:32:21.733974Z",
     "iopub.status.idle": "2021-01-14T20:32:21.735955Z",
     "shell.execute_reply": "2021-01-14T20:32:21.736392Z"
    },
    "papermill": {
     "duration": 0.038151,
     "end_time": "2021-01-14T20:32:21.736542",
     "exception": false,
     "start_time": "2021-01-14T20:32:21.698391",
     "status": "completed"
    },
    "tags": []
   },
   "outputs": [],
   "source": [
    "df = df.replace(['Trujet', 'Vistara Premium economy', 'Jet Airways Business', 'Multiple carriers Premium economy'], 'Other')"
   ]
  },
  {
   "cell_type": "code",
   "execution_count": 11,
   "metadata": {
    "execution": {
     "iopub.execute_input": "2021-01-14T20:32:21.788848Z",
     "iopub.status.busy": "2021-01-14T20:32:21.788196Z",
     "iopub.status.idle": "2021-01-14T20:32:22.401189Z",
     "shell.execute_reply": "2021-01-14T20:32:22.400682Z"
    },
    "papermill": {
     "duration": 0.639651,
     "end_time": "2021-01-14T20:32:22.401295",
     "exception": false,
     "start_time": "2021-01-14T20:32:21.761644",
     "status": "completed"
    },
    "tags": []
   },
   "outputs": [
    {
     "data": {
      "image/png": "[encoded data removed]",
      "text/plain": [
       "<Figure size 720x1080 with 3 Axes>"
      ]
     },
     "metadata": {
      "needs_background": "light"
     },
     "output_type": "display_data"
    }
   ],
   "source": [
    "fig, ax = plt.subplots(3,1, figsize=(10,15))\n",
    "sns.barplot(y='Destination', x='Price', data=df, ax=ax[0])\n",
    "sns.boxplot(y='Destination', x='Price', data=df, ax=ax[1])\n",
    "sns.countplot(y='Destination', data=df, ax=ax[2])\n",
    "plt.show()"
   ]
  },
  {
   "cell_type": "markdown",
   "metadata": {
    "papermill": {
     "duration": 0.025074,
     "end_time": "2021-01-14T20:32:22.452016",
     "exception": false,
     "start_time": "2021-01-14T20:32:22.426942",
     "status": "completed"
    },
    "tags": []
   },
   "source": [
    "Flights whose destination are New Delhi have the highest price and that makes sense because its the capital of India"
   ]
  },
  {
   "cell_type": "code",
   "execution_count": 12,
   "metadata": {
    "execution": {
     "iopub.execute_input": "2021-01-14T20:32:22.514167Z",
     "iopub.status.busy": "2021-01-14T20:32:22.513490Z",
     "iopub.status.idle": "2021-01-14T20:32:23.073957Z",
     "shell.execute_reply": "2021-01-14T20:32:23.073425Z"
    },
    "papermill": {
     "duration": 0.596734,
     "end_time": "2021-01-14T20:32:23.074065",
     "exception": false,
     "start_time": "2021-01-14T20:32:22.477331",
     "status": "completed"
    },
    "tags": []
   },
   "outputs": [
    {
     "data": {
      "image/png": "[encoded data removed]",
      "text/plain": [
       "<Figure size 720x1080 with 3 Axes>"
      ]
     },
     "metadata": {
      "needs_background": "light"
     },
     "output_type": "display_data"
    }
   ],
   "source": [
    "fig, ax = plt.subplots(3,1, figsize=(10,15))\n",
    "sns.barplot(y='Source', x='Price', data=df, ax=ax[0])\n",
    "sns.boxplot(y='Source', x='Price', data=df, ax=ax[1])\n",
    "sns.countplot(y='Source', data=df, ax=ax[2])\n",
    "plt.show()"
   ]
  },
  {
   "cell_type": "markdown",
   "metadata": {
    "papermill": {
     "duration": 0.026401,
     "end_time": "2021-01-14T20:32:23.127383",
     "exception": false,
     "start_time": "2021-01-14T20:32:23.100982",
     "status": "completed"
    },
    "tags": []
   },
   "source": [
    "Let's turn our other columns into numerical features. \n",
    "At first we turn the Dep_Time columns into two columns of hour and minute of departure\n",
    "And we do the same to the Arrival_Time, and the Duration column"
   ]
  },
  {
   "cell_type": "code",
   "execution_count": 13,
   "metadata": {
    "execution": {
     "iopub.execute_input": "2021-01-14T20:32:23.186723Z",
     "iopub.status.busy": "2021-01-14T20:32:23.185922Z",
     "iopub.status.idle": "2021-01-14T20:32:23.373234Z",
     "shell.execute_reply": "2021-01-14T20:32:23.372672Z"
    },
    "papermill": {
     "duration": 0.218992,
     "end_time": "2021-01-14T20:32:23.373341",
     "exception": false,
     "start_time": "2021-01-14T20:32:23.154349",
     "status": "completed"
    },
    "tags": []
   },
   "outputs": [],
   "source": [
    "df['Dep_H'] = df.apply(lambda x: int(x['Dep_Time'].split(':')[0]), axis=1)\n",
    "df['Dep_M'] = df.apply(lambda x: int(x['Dep_Time'].split(':')[1]), axis=1)"
   ]
  },
  {
   "cell_type": "code",
   "execution_count": 14,
   "metadata": {
    "execution": {
     "iopub.execute_input": "2021-01-14T20:32:23.433714Z",
     "iopub.status.busy": "2021-01-14T20:32:23.433144Z",
     "iopub.status.idle": "2021-01-14T20:32:23.727609Z",
     "shell.execute_reply": "2021-01-14T20:32:23.728133Z"
    },
    "papermill": {
     "duration": 0.327585,
     "end_time": "2021-01-14T20:32:23.728310",
     "exception": false,
     "start_time": "2021-01-14T20:32:23.400725",
     "status": "completed"
    },
    "tags": []
   },
   "outputs": [],
   "source": [
    "df['Arrival_Time_H'] = df.apply(lambda x: int(x['Arrival_Time'].split(':')[0]), axis=1)\n",
    "df['Arrival_Time_M'] = df.apply(lambda x: int(x['Arrival_Time'].split(':')[1].split(' ')[0]), axis=1)"
   ]
  },
  {
   "cell_type": "code",
   "execution_count": 15,
   "metadata": {
    "execution": {
     "iopub.execute_input": "2021-01-14T20:32:23.787481Z",
     "iopub.status.busy": "2021-01-14T20:32:23.786865Z",
     "iopub.status.idle": "2021-01-14T20:32:23.811805Z",
     "shell.execute_reply": "2021-01-14T20:32:23.811230Z"
    },
    "papermill": {
     "duration": 0.055933,
     "end_time": "2021-01-14T20:32:23.811928",
     "exception": false,
     "start_time": "2021-01-14T20:32:23.755995",
     "status": "completed"
    },
    "tags": []
   },
   "outputs": [],
   "source": [
    "# there are some columns that don't have hour or minute so we have to add an if-else statement to not come to any errors\n",
    "df['Duration_H'] = df['Duration'].apply(lambda x: int(x.split('h')[0]) if 'h' in x else 0)\n",
    "df['Duration_M'] = df['Duration'].apply(lambda x: 0 if 'm' not in x else int(x.split('h')[1].split('m')[0]) if 'h' in x else 0)"
   ]
  },
  {
   "cell_type": "code",
   "execution_count": 16,
   "metadata": {
    "execution": {
     "iopub.execute_input": "2021-01-14T20:32:23.872724Z",
     "iopub.status.busy": "2021-01-14T20:32:23.871809Z",
     "iopub.status.idle": "2021-01-14T20:32:23.876156Z",
     "shell.execute_reply": "2021-01-14T20:32:23.876607Z"
    },
    "papermill": {
     "duration": 0.03677,
     "end_time": "2021-01-14T20:32:23.876752",
     "exception": false,
     "start_time": "2021-01-14T20:32:23.839982",
     "status": "completed"
    },
    "tags": []
   },
   "outputs": [],
   "source": [
    "# Let's drop these columns after extracting their useful information\n",
    "df = df.drop(columns=['Dep_Time', 'Arrival_Time', 'Duration'], axis=1)"
   ]
  },
  {
   "cell_type": "code",
   "execution_count": 17,
   "metadata": {
    "execution": {
     "iopub.execute_input": "2021-01-14T20:32:23.938073Z",
     "iopub.status.busy": "2021-01-14T20:32:23.937113Z",
     "iopub.status.idle": "2021-01-14T20:32:24.121586Z",
     "shell.execute_reply": "2021-01-14T20:32:24.122087Z"
    },
    "papermill": {
     "duration": 0.218271,
     "end_time": "2021-01-14T20:32:24.122223",
     "exception": false,
     "start_time": "2021-01-14T20:32:23.903952",
     "status": "completed"
    },
    "tags": []
   },
   "outputs": [],
   "source": [
    "# Turn the Date column into 2 columns of the day and month. Since they are all in 2019 we don't make another column for year\n",
    "df['date_M'] = df.apply(lambda x: int(x['Date_of_Journey'].split('/')[1]), axis=1)\n",
    "df['date_D'] = df.apply(lambda x: int(x['Date_of_Journey'].split('/')[0]), axis=1)\n",
    "df = df.drop('Date_of_Journey', axis=1)"
   ]
  },
  {
   "cell_type": "code",
   "execution_count": 18,
   "metadata": {
    "execution": {
     "iopub.execute_input": "2021-01-14T20:32:24.186038Z",
     "iopub.status.busy": "2021-01-14T20:32:24.185335Z",
     "iopub.status.idle": "2021-01-14T20:32:24.188753Z",
     "shell.execute_reply": "2021-01-14T20:32:24.188260Z"
    },
    "papermill": {
     "duration": 0.039108,
     "end_time": "2021-01-14T20:32:24.188867",
     "exception": false,
     "start_time": "2021-01-14T20:32:24.149759",
     "status": "completed"
    },
    "tags": []
   },
   "outputs": [
    {
     "data": {
      "text/plain": [
       "1 stop      5625\n",
       "non-stop    3491\n",
       "2 stops     1520\n",
       "3 stops       45\n",
       "4 stops        1\n",
       "Name: Total_Stops, dtype: int64"
      ]
     },
     "execution_count": 18,
     "metadata": {},
     "output_type": "execute_result"
    }
   ],
   "source": [
    "df['Total_Stops'].value_counts()\n",
    "# We can either one-hot encode this feature or label encode them from 0 to 4 \n",
    "# I chose label encoding because here it makes sense since the distance between 1 stop and 3 stops is actually 2 "
   ]
  },
  {
   "cell_type": "code",
   "execution_count": 19,
   "metadata": {
    "execution": {
     "iopub.execute_input": "2021-01-14T20:32:24.249088Z",
     "iopub.status.busy": "2021-01-14T20:32:24.248170Z",
     "iopub.status.idle": "2021-01-14T20:32:24.281712Z",
     "shell.execute_reply": "2021-01-14T20:32:24.281209Z"
    },
    "papermill": {
     "duration": 0.065652,
     "end_time": "2021-01-14T20:32:24.281831",
     "exception": false,
     "start_time": "2021-01-14T20:32:24.216179",
     "status": "completed"
    },
    "tags": []
   },
   "outputs": [],
   "source": [
    "df = df.replace({\"non-stop\": 0, \"1 stop\": 1, \"2 stops\": 2, \"3 stops\": 3, \"4 stops\": 4})"
   ]
  },
  {
   "cell_type": "code",
   "execution_count": 20,
   "metadata": {
    "execution": {
     "iopub.execute_input": "2021-01-14T20:32:24.344747Z",
     "iopub.status.busy": "2021-01-14T20:32:24.343780Z",
     "iopub.status.idle": "2021-01-14T20:32:24.352651Z",
     "shell.execute_reply": "2021-01-14T20:32:24.352147Z"
    },
    "papermill": {
     "duration": 0.043504,
     "end_time": "2021-01-14T20:32:24.352761",
     "exception": false,
     "start_time": "2021-01-14T20:32:24.309257",
     "status": "completed"
    },
    "tags": []
   },
   "outputs": [],
   "source": [
    "# At last we perform one-hot encoding on the remaining columns\n",
    "data_train = pd.get_dummies(df, drop_first=True, columns=['Source', 'Airline', 'Destination'])"
   ]
  },
  {
   "cell_type": "markdown",
   "metadata": {
    "papermill": {
     "duration": 0.027126,
     "end_time": "2021-01-14T20:32:24.407873",
     "exception": false,
     "start_time": "2021-01-14T20:32:24.380747",
     "status": "completed"
    },
    "tags": []
   },
   "source": [
    "Now our data has turned into a format we can feed into models and train them!"
   ]
  },
  {
   "cell_type": "code",
   "execution_count": 21,
   "metadata": {
    "execution": {
     "iopub.execute_input": "2021-01-14T20:32:24.473559Z",
     "iopub.status.busy": "2021-01-14T20:32:24.470180Z",
     "iopub.status.idle": "2021-01-14T20:32:24.480191Z",
     "shell.execute_reply": "2021-01-14T20:32:24.479713Z"
    },
    "papermill": {
     "duration": 0.04478,
     "end_time": "2021-01-14T20:32:24.480293",
     "exception": false,
     "start_time": "2021-01-14T20:32:24.435513",
     "status": "completed"
    },
    "tags": []
   },
   "outputs": [],
   "source": [
    "# Train test split\n",
    "X = data_train.drop('Price', axis=1)\n",
    "y = data_train['Price']\n",
    "X_train, X_test, y_train, y_test = train_test_split(X, y, test_size=0.3, random_state=42)"
   ]
  },
  {
   "cell_type": "code",
   "execution_count": 22,
   "metadata": {
    "execution": {
     "iopub.execute_input": "2021-01-14T20:32:24.540926Z",
     "iopub.status.busy": "2021-01-14T20:32:24.540085Z",
     "iopub.status.idle": "2021-01-14T20:32:24.543039Z",
     "shell.execute_reply": "2021-01-14T20:32:24.542575Z"
    },
    "papermill": {
     "duration": 0.035083,
     "end_time": "2021-01-14T20:32:24.543136",
     "exception": false,
     "start_time": "2021-01-14T20:32:24.508053",
     "status": "completed"
    },
    "tags": []
   },
   "outputs": [],
   "source": [
    "# To use lightGBM we should turn our train and test data into a lightgbm Dataset object\n",
    "train_data = lightgbm.Dataset(X_train, y_train)\n",
    "val_data = lightgbm.Dataset(X_test, y_test, reference=train_data)"
   ]
  },
  {
   "cell_type": "code",
   "execution_count": 23,
   "metadata": {
    "execution": {
     "iopub.execute_input": "2021-01-14T20:32:24.600640Z",
     "iopub.status.busy": "2021-01-14T20:32:24.600072Z",
     "iopub.status.idle": "2021-01-14T20:32:24.604570Z",
     "shell.execute_reply": "2021-01-14T20:32:24.605036Z"
    },
    "papermill": {
     "duration": 0.034732,
     "end_time": "2021-01-14T20:32:24.605166",
     "exception": false,
     "start_time": "2021-01-14T20:32:24.570434",
     "status": "completed"
    },
    "tags": []
   },
   "outputs": [],
   "source": [
    "# let's initialize some parameters as lightGBM needs them to perform \n",
    "# You're welcome to change these to obtain better results\n",
    "params = {'objective': 'tweedie',\n",
    "          'metric': ['Huber', 'rmse'],\n",
    "          'learning_rate': 0.1,\n",
    "          'bagging_fraction': 0.8,\n",
    "          'bagging_freq': 5,\n",
    "          'feature_fraction': 0.9,\n",
    "          'min_data_in_leaf': 20,\n",
    "          'num_leaves': 41,\n",
    "          'scale_pos_weight': 1.2,\n",
    "          'lambda_l2': 1,\n",
    "          'lambda_l1': 1\n",
    "          }"
   ]
  },
  {
   "cell_type": "code",
   "execution_count": 24,
   "metadata": {
    "execution": {
     "iopub.execute_input": "2021-01-14T20:32:24.668436Z",
     "iopub.status.busy": "2021-01-14T20:32:24.665229Z",
     "iopub.status.idle": "2021-01-14T20:32:24.964593Z",
     "shell.execute_reply": "2021-01-14T20:32:24.965334Z"
    },
    "papermill": {
     "duration": 0.332451,
     "end_time": "2021-01-14T20:32:24.965535",
     "exception": false,
     "start_time": "2021-01-14T20:32:24.633084",
     "status": "completed"
    },
    "tags": []
   },
   "outputs": [
    {
     "name": "stdout",
     "output_type": "stream",
     "text": [
      "[1]\ttrain's huber: 3023.83\ttrain's rmse: 4345.69\tvalid's huber: 3012.08\tvalid's rmse: 4194.81\n",
      "[2]\ttrain's huber: 2782.77\ttrain's rmse: 4075.38\tvalid's huber: 2764.97\tvalid's rmse: 3905.74\n",
      "[3]\ttrain's huber: 2574.68\ttrain's rmse: 3841.08\tvalid's huber: 2552.66\tvalid's rmse: 3659.45\n",
      "[4]\ttrain's huber: 2393.18\ttrain's rmse: 3639.28\tvalid's huber: 2368.52\tvalid's rmse: 3448\n",
      "[5]\ttrain's huber: 2235.36\ttrain's rmse: 3458.57\tvalid's huber: 2208.39\tvalid's rmse: 3260.86\n",
      "[6]\ttrain's huber: 2102.31\ttrain's rmse: 3295.33\tvalid's huber: 2071.98\tvalid's rmse: 3092.24\n",
      "[7]\ttrain's huber: 1993.14\ttrain's rmse: 3173.56\tvalid's huber: 1963.58\tvalid's rmse: 2976.25\n",
      "[8]\ttrain's huber: 1893.38\ttrain's rmse: 3050.08\tvalid's huber: 1861.69\tvalid's rmse: 2848.49\n",
      "[9]\ttrain's huber: 1803.85\ttrain's rmse: 2940.45\tvalid's huber: 1772.34\tvalid's rmse: 2734.91\n",
      "[10]\ttrain's huber: 1728.66\ttrain's rmse: 2840.91\tvalid's huber: 1696.89\tvalid's rmse: 2633.58\n",
      "[11]\ttrain's huber: 1665.82\ttrain's rmse: 2757.95\tvalid's huber: 1635.74\tvalid's rmse: 2555.82\n",
      "[12]\ttrain's huber: 1613.41\ttrain's rmse: 2690.28\tvalid's huber: 1586.52\tvalid's rmse: 2489\n",
      "[13]\ttrain's huber: 1567.43\ttrain's rmse: 2628.31\tvalid's huber: 1543.75\tvalid's rmse: 2435.07\n",
      "[14]\ttrain's huber: 1525.3\ttrain's rmse: 2573.42\tvalid's huber: 1502.61\tvalid's rmse: 2384.68\n",
      "[15]\ttrain's huber: 1490.25\ttrain's rmse: 2528.4\tvalid's huber: 1468.63\tvalid's rmse: 2346.57\n",
      "[16]\ttrain's huber: 1457.3\ttrain's rmse: 2486.41\tvalid's huber: 1439.38\tvalid's rmse: 2314.83\n",
      "[17]\ttrain's huber: 1428.58\ttrain's rmse: 2451.67\tvalid's huber: 1414.82\tvalid's rmse: 2288.33\n",
      "[18]\ttrain's huber: 1400.55\ttrain's rmse: 2409.35\tvalid's huber: 1388.63\tvalid's rmse: 2251.56\n",
      "[19]\ttrain's huber: 1376.42\ttrain's rmse: 2372.67\tvalid's huber: 1364.51\tvalid's rmse: 2216.38\n",
      "[20]\ttrain's huber: 1357.59\ttrain's rmse: 2346.09\tvalid's huber: 1348.76\tvalid's rmse: 2198.79\n",
      "[21]\ttrain's huber: 1340.59\ttrain's rmse: 2315.31\tvalid's huber: 1333.75\tvalid's rmse: 2174.4\n",
      "[22]\ttrain's huber: 1320.64\ttrain's rmse: 2280.36\tvalid's huber: 1317.11\tvalid's rmse: 2148.03\n",
      "[23]\ttrain's huber: 1299.9\ttrain's rmse: 2244.85\tvalid's huber: 1300.06\tvalid's rmse: 2121.31\n",
      "[24]\ttrain's huber: 1283.35\ttrain's rmse: 2213.09\tvalid's huber: 1285.18\tvalid's rmse: 2099.08\n",
      "[25]\ttrain's huber: 1269.84\ttrain's rmse: 2188.97\tvalid's huber: 1275.71\tvalid's rmse: 2085.28\n",
      "[26]\ttrain's huber: 1254.94\ttrain's rmse: 2166.67\tvalid's huber: 1264.68\tvalid's rmse: 2070.3\n",
      "[27]\ttrain's huber: 1243.45\ttrain's rmse: 2148.31\tvalid's huber: 1256.18\tvalid's rmse: 2058.26\n",
      "[28]\ttrain's huber: 1232.08\ttrain's rmse: 2130.49\tvalid's huber: 1247.78\tvalid's rmse: 2047.06\n",
      "[29]\ttrain's huber: 1223.14\ttrain's rmse: 2115.71\tvalid's huber: 1241.13\tvalid's rmse: 2037.17\n",
      "[30]\ttrain's huber: 1214.01\ttrain's rmse: 2098.48\tvalid's huber: 1233.98\tvalid's rmse: 2026.43\n",
      "[31]\ttrain's huber: 1205.28\ttrain's rmse: 2080.12\tvalid's huber: 1228.44\tvalid's rmse: 2018.95\n",
      "[32]\ttrain's huber: 1196.79\ttrain's rmse: 2063.35\tvalid's huber: 1221.6\tvalid's rmse: 2008.25\n",
      "[33]\ttrain's huber: 1186.52\ttrain's rmse: 2041.44\tvalid's huber: 1214.89\tvalid's rmse: 2001.34\n",
      "[34]\ttrain's huber: 1178.29\ttrain's rmse: 2023.4\tvalid's huber: 1210.91\tvalid's rmse: 1995.62\n",
      "[35]\ttrain's huber: 1169.61\ttrain's rmse: 2006.3\tvalid's huber: 1204.73\tvalid's rmse: 1986.83\n",
      "[36]\ttrain's huber: 1161.44\ttrain's rmse: 1989.01\tvalid's huber: 1199.33\tvalid's rmse: 1979.57\n",
      "[37]\ttrain's huber: 1154.39\ttrain's rmse: 1978.08\tvalid's huber: 1193.11\tvalid's rmse: 1971.57\n",
      "[38]\ttrain's huber: 1146.59\ttrain's rmse: 1964.04\tvalid's huber: 1188.07\tvalid's rmse: 1966.88\n",
      "[39]\ttrain's huber: 1139.39\ttrain's rmse: 1950.02\tvalid's huber: 1182.8\tvalid's rmse: 1961.93\n",
      "[40]\ttrain's huber: 1134.63\ttrain's rmse: 1940.47\tvalid's huber: 1178.75\tvalid's rmse: 1958.1\n",
      "[41]\ttrain's huber: 1126.75\ttrain's rmse: 1926.46\tvalid's huber: 1172.68\tvalid's rmse: 1949.3\n",
      "[42]\ttrain's huber: 1120.15\ttrain's rmse: 1915.5\tvalid's huber: 1167.86\tvalid's rmse: 1942.04\n",
      "[43]\ttrain's huber: 1115.51\ttrain's rmse: 1904.2\tvalid's huber: 1165.02\tvalid's rmse: 1936.73\n",
      "[44]\ttrain's huber: 1110.44\ttrain's rmse: 1892.91\tvalid's huber: 1161.53\tvalid's rmse: 1930.92\n",
      "[45]\ttrain's huber: 1106.65\ttrain's rmse: 1887.7\tvalid's huber: 1159.07\tvalid's rmse: 1928.24\n",
      "[46]\ttrain's huber: 1099.91\ttrain's rmse: 1871.41\tvalid's huber: 1154.95\tvalid's rmse: 1922.3\n",
      "[47]\ttrain's huber: 1093.76\ttrain's rmse: 1855.66\tvalid's huber: 1150.69\tvalid's rmse: 1916.77\n",
      "[48]\ttrain's huber: 1088.02\ttrain's rmse: 1843.81\tvalid's huber: 1145.87\tvalid's rmse: 1910.8\n",
      "[49]\ttrain's huber: 1082.91\ttrain's rmse: 1835.52\tvalid's huber: 1141.9\tvalid's rmse: 1905.45\n",
      "[50]\ttrain's huber: 1077.14\ttrain's rmse: 1822.43\tvalid's huber: 1139.06\tvalid's rmse: 1901\n",
      "[51]\ttrain's huber: 1071.39\ttrain's rmse: 1811.77\tvalid's huber: 1135.38\tvalid's rmse: 1895.83\n",
      "[52]\ttrain's huber: 1066.62\ttrain's rmse: 1805.37\tvalid's huber: 1130.8\tvalid's rmse: 1891.71\n",
      "[53]\ttrain's huber: 1061.58\ttrain's rmse: 1798.97\tvalid's huber: 1127.74\tvalid's rmse: 1889.4\n",
      "[54]\ttrain's huber: 1057.08\ttrain's rmse: 1794.37\tvalid's huber: 1125.23\tvalid's rmse: 1888.3\n",
      "[55]\ttrain's huber: 1053.92\ttrain's rmse: 1789.26\tvalid's huber: 1123.95\tvalid's rmse: 1887.77\n",
      "[56]\ttrain's huber: 1051.17\ttrain's rmse: 1783.35\tvalid's huber: 1122.61\tvalid's rmse: 1885.99\n",
      "[57]\ttrain's huber: 1047.24\ttrain's rmse: 1777.46\tvalid's huber: 1119.76\tvalid's rmse: 1882.71\n",
      "[58]\ttrain's huber: 1044.19\ttrain's rmse: 1771.01\tvalid's huber: 1118.42\tvalid's rmse: 1882.04\n",
      "[59]\ttrain's huber: 1041.02\ttrain's rmse: 1765.39\tvalid's huber: 1116.34\tvalid's rmse: 1880.16\n",
      "[60]\ttrain's huber: 1036.67\ttrain's rmse: 1755.47\tvalid's huber: 1113.76\tvalid's rmse: 1876.4\n",
      "[61]\ttrain's huber: 1032.76\ttrain's rmse: 1745.75\tvalid's huber: 1112.09\tvalid's rmse: 1874.07\n",
      "[62]\ttrain's huber: 1029.01\ttrain's rmse: 1737.3\tvalid's huber: 1111.41\tvalid's rmse: 1873.42\n",
      "[63]\ttrain's huber: 1026.19\ttrain's rmse: 1728.07\tvalid's huber: 1110.89\tvalid's rmse: 1870.7\n",
      "[64]\ttrain's huber: 1023.83\ttrain's rmse: 1721.33\tvalid's huber: 1110.65\tvalid's rmse: 1869.59\n",
      "[65]\ttrain's huber: 1021.27\ttrain's rmse: 1712.29\tvalid's huber: 1111.82\tvalid's rmse: 1872.52\n",
      "[66]\ttrain's huber: 1016.99\ttrain's rmse: 1703.06\tvalid's huber: 1109.84\tvalid's rmse: 1868.18\n",
      "[67]\ttrain's huber: 1012.95\ttrain's rmse: 1693.69\tvalid's huber: 1107.45\tvalid's rmse: 1862.71\n",
      "[68]\ttrain's huber: 1011.08\ttrain's rmse: 1691.06\tvalid's huber: 1106.73\tvalid's rmse: 1862.71\n",
      "[69]\ttrain's huber: 1007.67\ttrain's rmse: 1686.29\tvalid's huber: 1103.99\tvalid's rmse: 1859.71\n",
      "[70]\ttrain's huber: 1005.08\ttrain's rmse: 1678.93\tvalid's huber: 1103.5\tvalid's rmse: 1857.05\n",
      "[71]\ttrain's huber: 1001.24\ttrain's rmse: 1672.82\tvalid's huber: 1101.75\tvalid's rmse: 1855.44\n",
      "[72]\ttrain's huber: 997.967\ttrain's rmse: 1666.6\tvalid's huber: 1099.77\tvalid's rmse: 1853.47\n",
      "[73]\ttrain's huber: 995.468\ttrain's rmse: 1656.73\tvalid's huber: 1098.97\tvalid's rmse: 1851.19\n",
      "[74]\ttrain's huber: 992.998\ttrain's rmse: 1648.77\tvalid's huber: 1099.19\tvalid's rmse: 1852.07\n",
      "[75]\ttrain's huber: 989.307\ttrain's rmse: 1644.4\tvalid's huber: 1097.21\tvalid's rmse: 1851.4\n",
      "[76]\ttrain's huber: 986.267\ttrain's rmse: 1636.08\tvalid's huber: 1096.34\tvalid's rmse: 1851.71\n",
      "[77]\ttrain's huber: 983.716\ttrain's rmse: 1629.27\tvalid's huber: 1095.58\tvalid's rmse: 1851.74\n",
      "[78]\ttrain's huber: 981.562\ttrain's rmse: 1623.23\tvalid's huber: 1094.76\tvalid's rmse: 1851.55\n",
      "[79]\ttrain's huber: 979.303\ttrain's rmse: 1618.37\tvalid's huber: 1093.06\tvalid's rmse: 1848.04\n",
      "[80]\ttrain's huber: 977.101\ttrain's rmse: 1612.9\tvalid's huber: 1092.71\tvalid's rmse: 1847.39\n",
      "[81]\ttrain's huber: 973.843\ttrain's rmse: 1609.19\tvalid's huber: 1090.62\tvalid's rmse: 1845.7\n",
      "[82]\ttrain's huber: 971.484\ttrain's rmse: 1606.26\tvalid's huber: 1089.29\tvalid's rmse: 1844.65\n",
      "[83]\ttrain's huber: 969.32\ttrain's rmse: 1600.2\tvalid's huber: 1088.5\tvalid's rmse: 1845.54\n",
      "[84]\ttrain's huber: 967.076\ttrain's rmse: 1596.07\tvalid's huber: 1087.3\tvalid's rmse: 1845.1\n",
      "[85]\ttrain's huber: 964.932\ttrain's rmse: 1589.28\tvalid's huber: 1086.28\tvalid's rmse: 1844.3\n",
      "[86]\ttrain's huber: 962.862\ttrain's rmse: 1586.77\tvalid's huber: 1086.41\tvalid's rmse: 1844.87\n",
      "[87]\ttrain's huber: 960.631\ttrain's rmse: 1582.18\tvalid's huber: 1084.82\tvalid's rmse: 1841.73\n",
      "[88]\ttrain's huber: 958.937\ttrain's rmse: 1578.09\tvalid's huber: 1084.38\tvalid's rmse: 1840.18\n",
      "[89]\ttrain's huber: 956.666\ttrain's rmse: 1575.46\tvalid's huber: 1083.22\tvalid's rmse: 1839.27\n",
      "[90]\ttrain's huber: 955.135\ttrain's rmse: 1573\tvalid's huber: 1082.54\tvalid's rmse: 1838.55\n",
      "[91]\ttrain's huber: 952.452\ttrain's rmse: 1569.16\tvalid's huber: 1081.48\tvalid's rmse: 1839.34\n",
      "[92]\ttrain's huber: 949.966\ttrain's rmse: 1565.85\tvalid's huber: 1079.95\tvalid's rmse: 1839.27\n",
      "[93]\ttrain's huber: 947.619\ttrain's rmse: 1562.17\tvalid's huber: 1079.2\tvalid's rmse: 1837.79\n",
      "[94]\ttrain's huber: 945.5\ttrain's rmse: 1558.39\tvalid's huber: 1078.33\tvalid's rmse: 1837.08\n",
      "[95]\ttrain's huber: 943.575\ttrain's rmse: 1554.15\tvalid's huber: 1077.47\tvalid's rmse: 1834.76\n",
      "[96]\ttrain's huber: 941.693\ttrain's rmse: 1550.24\tvalid's huber: 1076.82\tvalid's rmse: 1832.59\n",
      "[97]\ttrain's huber: 939.736\ttrain's rmse: 1548.83\tvalid's huber: 1075.96\tvalid's rmse: 1830.72\n",
      "[98]\ttrain's huber: 937.958\ttrain's rmse: 1547.69\tvalid's huber: 1076.03\tvalid's rmse: 1829.92\n",
      "[99]\ttrain's huber: 936.112\ttrain's rmse: 1544.03\tvalid's huber: 1075.74\tvalid's rmse: 1828.26\n",
      "[100]\ttrain's huber: 934.411\ttrain's rmse: 1540.41\tvalid's huber: 1075.56\tvalid's rmse: 1827.31\n"
     ]
    }
   ],
   "source": [
    "# Training\n",
    "gbm = lightgbm.train(params=params,\n",
    "                     train_set=train_data,\n",
    "                     valid_sets=[train_data, val_data],\n",
    "                     valid_names=['train', 'valid'])"
   ]
  },
  {
   "cell_type": "markdown",
   "metadata": {
    "papermill": {
     "duration": 0.048554,
     "end_time": "2021-01-14T20:32:25.062887",
     "exception": false,
     "start_time": "2021-01-14T20:32:25.014333",
     "status": "completed"
    },
    "tags": []
   },
   "source": [
    "Let's see how our model performs on the test set"
   ]
  },
  {
   "cell_type": "code",
   "execution_count": 25,
   "metadata": {
    "execution": {
     "iopub.execute_input": "2021-01-14T20:32:25.166408Z",
     "iopub.status.busy": "2021-01-14T20:32:25.165836Z",
     "iopub.status.idle": "2021-01-14T20:32:25.198726Z",
     "shell.execute_reply": "2021-01-14T20:32:25.199526Z"
    },
    "papermill": {
     "duration": 0.087887,
     "end_time": "2021-01-14T20:32:25.199713",
     "exception": false,
     "start_time": "2021-01-14T20:32:25.111826",
     "status": "completed"
    },
    "tags": []
   },
   "outputs": [
    {
     "name": "stdout",
     "output_type": "stream",
     "text": [
      "0.8363273254370414 3339074.216800278\n"
     ]
    }
   ],
   "source": [
    "print(r2_score(y_test, gbm.predict(X_test)), mean_squared_error(y_test, gbm.predict(X_test)))"
   ]
  },
  {
   "cell_type": "markdown",
   "metadata": {
    "papermill": {
     "duration": 0.050342,
     "end_time": "2021-01-14T20:32:25.299740",
     "exception": false,
     "start_time": "2021-01-14T20:32:25.249398",
     "status": "completed"
    },
    "tags": []
   },
   "source": [
    "So we get around 83% R2 score"
   ]
  },
  {
   "cell_type": "markdown",
   "metadata": {
    "papermill": {
     "duration": 0.045887,
     "end_time": "2021-01-14T20:32:25.394918",
     "exception": false,
     "start_time": "2021-01-14T20:32:25.349031",
     "status": "completed"
    },
    "tags": []
   },
   "source": [
    "Now we perform the same preprocessing on Test_set.xlsx\n",
    "and submit"
   ]
  },
  {
   "cell_type": "code",
   "execution_count": 26,
   "metadata": {
    "execution": {
     "iopub.execute_input": "2021-01-14T20:32:25.466730Z",
     "iopub.status.busy": "2021-01-14T20:32:25.466097Z",
     "iopub.status.idle": "2021-01-14T20:32:25.989531Z",
     "shell.execute_reply": "2021-01-14T20:32:25.988999Z"
    },
    "papermill": {
     "duration": 0.565317,
     "end_time": "2021-01-14T20:32:25.989650",
     "exception": false,
     "start_time": "2021-01-14T20:32:25.424333",
     "status": "completed"
    },
    "tags": []
   },
   "outputs": [],
   "source": [
    "df = pd.read_excel('../input/flight-fare-prediction-mh/Test_set.xlsx', engine='openpyxl')\n",
    "df = df.dropna()\n",
    "df = df.drop(columns=['Additional_Info', 'Route'], axis=1)\n",
    "df['Dep_H'] = df.apply(lambda x: int(x['Dep_Time'].split(':')[0]), axis=1)\n",
    "df['Dep_M'] = df.apply(lambda x: int(x['Dep_Time'].split(':')[1]), axis=1)\n",
    "df['Arrival_Time_H'] = df.apply(lambda x: int(x['Arrival_Time'].split(':')[0]), axis=1)\n",
    "df['Arrival_Time_M'] = df.apply(lambda x: int(x['Arrival_Time'].split(':')[1].split(' ')[0]), axis=1)\n",
    "df['Duration_H'] = df['Duration'].apply(lambda x: int(x.split('h')[0]) if 'h' in x else 0)\n",
    "df['Duration_M'] = df['Duration'].apply(lambda x: 0 if 'm' not in x else int(x.split('h')[1].split('m')[0]) if 'h' in x else 0)\n",
    "df = df.drop(columns=['Dep_Time', 'Arrival_Time', 'Duration'], axis=1)\n",
    "df['date_M'] = df.apply(lambda x: int(x['Date_of_Journey'].split('/')[1]), axis=1)\n",
    "df['date_D'] = df.apply(lambda x: int(x['Date_of_Journey'].split('/')[0]), axis=1)\n",
    "df = df.drop('Date_of_Journey', axis=1)\n",
    "df = df.replace({\"non-stop\": 0, \"1 stop\": 1, \"2 stops\": 2, \"3 stops\": 3, \"4 stops\": 4})\n",
    "df = df.replace(['Trujet', 'Vistara Premium economy', 'Jet Airways Business', 'Multiple carriers Premium economy'], 'Other')\n",
    "data_test = pd.get_dummies(df, drop_first=True, columns=['Source', 'Airline', 'Destination'])"
   ]
  },
  {
   "cell_type": "code",
   "execution_count": 27,
   "metadata": {
    "execution": {
     "iopub.execute_input": "2021-01-14T20:32:26.055269Z",
     "iopub.status.busy": "2021-01-14T20:32:26.054708Z",
     "iopub.status.idle": "2021-01-14T20:32:26.066834Z",
     "shell.execute_reply": "2021-01-14T20:32:26.067449Z"
    },
    "papermill": {
     "duration": 0.048781,
     "end_time": "2021-01-14T20:32:26.067638",
     "exception": false,
     "start_time": "2021-01-14T20:32:26.018857",
     "status": "completed"
    },
    "tags": []
   },
   "outputs": [],
   "source": [
    "X_test = data_test\n",
    "y_test = gbm.predict(X_test)"
   ]
  },
  {
   "cell_type": "code",
   "execution_count": 28,
   "metadata": {
    "execution": {
     "iopub.execute_input": "2021-01-14T20:32:26.172363Z",
     "iopub.status.busy": "2021-01-14T20:32:26.164329Z",
     "iopub.status.idle": "2021-01-14T20:32:26.182198Z",
     "shell.execute_reply": "2021-01-14T20:32:26.181523Z"
    },
    "papermill": {
     "duration": 0.068799,
     "end_time": "2021-01-14T20:32:26.182349",
     "exception": false,
     "start_time": "2021-01-14T20:32:26.113550",
     "status": "completed"
    },
    "tags": []
   },
   "outputs": [],
   "source": [
    "my_submission = pd.DataFrame({'Price': y_test})\n",
    "my_submission.to_csv('submission.csv', index=False)"
   ]
  },
  {
   "cell_type": "code",
   "execution_count": null,
   "metadata": {
    "papermill": {
     "duration": 0.040155,
     "end_time": "2021-01-14T20:32:26.267639",
     "exception": false,
     "start_time": "2021-01-14T20:32:26.227484",
     "status": "completed"
    },
    "tags": []
   },
   "outputs": [],
   "source": []
  }
 ],
 "metadata": {
  "kernelspec": {
   "display_name": "Python 3",
   "language": "python",
   "name": "python3"
  },
  "language_info": {
   "codemirror_mode": {
    "name": "ipython",
    "version": 3
   },
   "file_extension": ".py",
   "mimetype": "text/x-python",
   "name": "python",
   "nbconvert_exporter": "python",
   "pygments_lexer": "ipython3",
   "version": "3.7.6"
  },
  "papermill": {
   "duration": 15.757557,
   "end_time": "2021-01-14T20:32:26.403905",
   "environment_variables": {},
   "exception": null,
   "input_path": "__notebook__.ipynb",
   "output_path": "__notebook__.ipynb",
   "parameters": {},
   "start_time": "2021-01-14T20:32:10.646348",
   "version": "2.1.0"
  }
 },
 "nbformat": 4,
 "nbformat_minor": 4
}
